{
 "cells": [
  {
   "cell_type": "code",
   "execution_count": 1,
   "id": "844dd781",
   "metadata": {},
   "outputs": [],
   "source": [
    "import pandas as pd\n",
    "import numpy as np"
   ]
  },
  {
   "cell_type": "code",
   "execution_count": 2,
   "id": "aefb1ef8",
   "metadata": {},
   "outputs": [],
   "source": [
    "df_2021_08 = pd.read_csv(\"202108-divvy-tripdata.csv\")\n",
    "df_2021_09 = pd.read_csv(\"202109-divvy-tripdata.csv\")\n",
    "df_2021_10 = pd.read_csv(\"202110-divvy-tripdata.csv\")\n",
    "df_2021_11 = pd.read_csv(\"202111-divvy-tripdata.csv\")\n",
    "df_2021_12 = pd.read_csv(\"202112-divvy-tripdata.csv\")\n",
    "df_2022_01 = pd.read_csv(\"202201-divvy-tripdata.csv\")\n",
    "df_2022_02 = pd.read_csv(\"202202-divvy-tripdata.csv\")\n",
    "df_2022_03 = pd.read_csv(\"202203-divvy-tripdata.csv\")\n",
    "df_2022_04 = pd.read_csv(\"202204-divvy-tripdata.csv\")\n",
    "df_2022_05 = pd.read_csv(\"202205-divvy-tripdata.csv\")\n",
    "df_2022_06 = pd.read_csv(\"202206-divvy-tripdata.csv\")\n",
    "df_2022_07 = pd.read_csv(\"202207-divvy-tripdata.csv\")"
   ]
  },
  {
   "cell_type": "code",
   "execution_count": 3,
   "id": "f7af98c0",
   "metadata": {},
   "outputs": [],
   "source": [
    "frames = [df_2021_08, df_2021_09, df_2021_10, df_2021_11, df_2021_12, df_2022_01,\n",
    "          df_2022_02, df_2022_03, df_2022_04, df_2022_05, df_2022_06, df_2022_07]"
   ]
  },
  {
   "cell_type": "code",
   "execution_count": 4,
   "id": "4b4581fc",
   "metadata": {},
   "outputs": [],
   "source": [
    "df_1_year = pd.concat(frames)"
   ]
  },
  {
   "cell_type": "code",
   "execution_count": 5,
   "id": "e27eb6e6",
   "metadata": {},
   "outputs": [
    {
     "data": {
      "text/html": [
       "<div>\n",
       "<style scoped>\n",
       "    .dataframe tbody tr th:only-of-type {\n",
       "        vertical-align: middle;\n",
       "    }\n",
       "\n",
       "    .dataframe tbody tr th {\n",
       "        vertical-align: top;\n",
       "    }\n",
       "\n",
       "    .dataframe thead th {\n",
       "        text-align: right;\n",
       "    }\n",
       "</style>\n",
       "<table border=\"1\" class=\"dataframe\">\n",
       "  <thead>\n",
       "    <tr style=\"text-align: right;\">\n",
       "      <th></th>\n",
       "      <th>ride_id</th>\n",
       "      <th>rideable_type</th>\n",
       "      <th>started_at</th>\n",
       "      <th>ended_at</th>\n",
       "      <th>start_station_name</th>\n",
       "      <th>start_station_id</th>\n",
       "      <th>end_station_name</th>\n",
       "      <th>end_station_id</th>\n",
       "      <th>start_lat</th>\n",
       "      <th>start_lng</th>\n",
       "      <th>end_lat</th>\n",
       "      <th>end_lng</th>\n",
       "      <th>member_casual</th>\n",
       "    </tr>\n",
       "  </thead>\n",
       "  <tbody>\n",
       "    <tr>\n",
       "      <th>0</th>\n",
       "      <td>99103BB87CC6C1BB</td>\n",
       "      <td>electric_bike</td>\n",
       "      <td>2021-08-10 17:15:49</td>\n",
       "      <td>2021-08-10 17:22:44</td>\n",
       "      <td>NaN</td>\n",
       "      <td>NaN</td>\n",
       "      <td>NaN</td>\n",
       "      <td>NaN</td>\n",
       "      <td>41.77</td>\n",
       "      <td>-87.68</td>\n",
       "      <td>41.77</td>\n",
       "      <td>-87.68</td>\n",
       "      <td>member</td>\n",
       "    </tr>\n",
       "    <tr>\n",
       "      <th>1</th>\n",
       "      <td>EAFCCCFB0A3FC5A1</td>\n",
       "      <td>electric_bike</td>\n",
       "      <td>2021-08-10 17:23:14</td>\n",
       "      <td>2021-08-10 17:39:24</td>\n",
       "      <td>NaN</td>\n",
       "      <td>NaN</td>\n",
       "      <td>NaN</td>\n",
       "      <td>NaN</td>\n",
       "      <td>41.77</td>\n",
       "      <td>-87.68</td>\n",
       "      <td>41.77</td>\n",
       "      <td>-87.63</td>\n",
       "      <td>member</td>\n",
       "    </tr>\n",
       "    <tr>\n",
       "      <th>2</th>\n",
       "      <td>9EF4F46C57AD234D</td>\n",
       "      <td>electric_bike</td>\n",
       "      <td>2021-08-21 02:34:23</td>\n",
       "      <td>2021-08-21 02:50:36</td>\n",
       "      <td>NaN</td>\n",
       "      <td>NaN</td>\n",
       "      <td>NaN</td>\n",
       "      <td>NaN</td>\n",
       "      <td>41.95</td>\n",
       "      <td>-87.65</td>\n",
       "      <td>41.97</td>\n",
       "      <td>-87.66</td>\n",
       "      <td>member</td>\n",
       "    </tr>\n",
       "    <tr>\n",
       "      <th>3</th>\n",
       "      <td>5834D3208BFAF1DA</td>\n",
       "      <td>electric_bike</td>\n",
       "      <td>2021-08-21 06:52:55</td>\n",
       "      <td>2021-08-21 07:08:13</td>\n",
       "      <td>NaN</td>\n",
       "      <td>NaN</td>\n",
       "      <td>NaN</td>\n",
       "      <td>NaN</td>\n",
       "      <td>41.97</td>\n",
       "      <td>-87.67</td>\n",
       "      <td>41.95</td>\n",
       "      <td>-87.65</td>\n",
       "      <td>member</td>\n",
       "    </tr>\n",
       "    <tr>\n",
       "      <th>4</th>\n",
       "      <td>CD825CB87ED1D096</td>\n",
       "      <td>electric_bike</td>\n",
       "      <td>2021-08-19 11:55:29</td>\n",
       "      <td>2021-08-19 12:04:11</td>\n",
       "      <td>NaN</td>\n",
       "      <td>NaN</td>\n",
       "      <td>NaN</td>\n",
       "      <td>NaN</td>\n",
       "      <td>41.79</td>\n",
       "      <td>-87.60</td>\n",
       "      <td>41.77</td>\n",
       "      <td>-87.62</td>\n",
       "      <td>member</td>\n",
       "    </tr>\n",
       "    <tr>\n",
       "      <th>...</th>\n",
       "      <td>...</td>\n",
       "      <td>...</td>\n",
       "      <td>...</td>\n",
       "      <td>...</td>\n",
       "      <td>...</td>\n",
       "      <td>...</td>\n",
       "      <td>...</td>\n",
       "      <td>...</td>\n",
       "      <td>...</td>\n",
       "      <td>...</td>\n",
       "      <td>...</td>\n",
       "      <td>...</td>\n",
       "      <td>...</td>\n",
       "    </tr>\n",
       "    <tr>\n",
       "      <th>823483</th>\n",
       "      <td>605787F70B3B9FD3</td>\n",
       "      <td>electric_bike</td>\n",
       "      <td>2022-07-09 08:32:15</td>\n",
       "      <td>2022-07-09 08:56:10</td>\n",
       "      <td>NaN</td>\n",
       "      <td>NaN</td>\n",
       "      <td>NaN</td>\n",
       "      <td>NaN</td>\n",
       "      <td>41.74</td>\n",
       "      <td>-87.68</td>\n",
       "      <td>41.75</td>\n",
       "      <td>-87.68</td>\n",
       "      <td>member</td>\n",
       "    </tr>\n",
       "    <tr>\n",
       "      <th>823484</th>\n",
       "      <td>F0EECBEE637DF028</td>\n",
       "      <td>electric_bike</td>\n",
       "      <td>2022-07-17 13:27:57</td>\n",
       "      <td>2022-07-17 13:33:09</td>\n",
       "      <td>NaN</td>\n",
       "      <td>NaN</td>\n",
       "      <td>NaN</td>\n",
       "      <td>NaN</td>\n",
       "      <td>41.87</td>\n",
       "      <td>-87.66</td>\n",
       "      <td>41.87</td>\n",
       "      <td>-87.68</td>\n",
       "      <td>member</td>\n",
       "    </tr>\n",
       "    <tr>\n",
       "      <th>823485</th>\n",
       "      <td>B8B091DC72DDAB9D</td>\n",
       "      <td>electric_bike</td>\n",
       "      <td>2022-07-17 14:51:37</td>\n",
       "      <td>2022-07-17 14:57:01</td>\n",
       "      <td>NaN</td>\n",
       "      <td>NaN</td>\n",
       "      <td>NaN</td>\n",
       "      <td>NaN</td>\n",
       "      <td>41.95</td>\n",
       "      <td>-87.64</td>\n",
       "      <td>41.95</td>\n",
       "      <td>-87.65</td>\n",
       "      <td>member</td>\n",
       "    </tr>\n",
       "    <tr>\n",
       "      <th>823486</th>\n",
       "      <td>B4D3FFCC1F3AF5EC</td>\n",
       "      <td>electric_bike</td>\n",
       "      <td>2022-07-28 13:41:50</td>\n",
       "      <td>2022-07-28 13:47:17</td>\n",
       "      <td>NaN</td>\n",
       "      <td>NaN</td>\n",
       "      <td>NaN</td>\n",
       "      <td>NaN</td>\n",
       "      <td>41.88</td>\n",
       "      <td>-87.63</td>\n",
       "      <td>41.87</td>\n",
       "      <td>-87.63</td>\n",
       "      <td>member</td>\n",
       "    </tr>\n",
       "    <tr>\n",
       "      <th>823487</th>\n",
       "      <td>AA9217C8DA3BAC0B</td>\n",
       "      <td>electric_bike</td>\n",
       "      <td>2022-07-29 13:05:20</td>\n",
       "      <td>2022-07-29 13:10:40</td>\n",
       "      <td>NaN</td>\n",
       "      <td>NaN</td>\n",
       "      <td>NaN</td>\n",
       "      <td>NaN</td>\n",
       "      <td>41.90</td>\n",
       "      <td>-87.66</td>\n",
       "      <td>41.90</td>\n",
       "      <td>-87.67</td>\n",
       "      <td>member</td>\n",
       "    </tr>\n",
       "  </tbody>\n",
       "</table>\n",
       "<p>5901463 rows × 13 columns</p>\n",
       "</div>"
      ],
      "text/plain": [
       "                 ride_id  rideable_type           started_at  \\\n",
       "0       99103BB87CC6C1BB  electric_bike  2021-08-10 17:15:49   \n",
       "1       EAFCCCFB0A3FC5A1  electric_bike  2021-08-10 17:23:14   \n",
       "2       9EF4F46C57AD234D  electric_bike  2021-08-21 02:34:23   \n",
       "3       5834D3208BFAF1DA  electric_bike  2021-08-21 06:52:55   \n",
       "4       CD825CB87ED1D096  electric_bike  2021-08-19 11:55:29   \n",
       "...                  ...            ...                  ...   \n",
       "823483  605787F70B3B9FD3  electric_bike  2022-07-09 08:32:15   \n",
       "823484  F0EECBEE637DF028  electric_bike  2022-07-17 13:27:57   \n",
       "823485  B8B091DC72DDAB9D  electric_bike  2022-07-17 14:51:37   \n",
       "823486  B4D3FFCC1F3AF5EC  electric_bike  2022-07-28 13:41:50   \n",
       "823487  AA9217C8DA3BAC0B  electric_bike  2022-07-29 13:05:20   \n",
       "\n",
       "                   ended_at start_station_name start_station_id  \\\n",
       "0       2021-08-10 17:22:44                NaN              NaN   \n",
       "1       2021-08-10 17:39:24                NaN              NaN   \n",
       "2       2021-08-21 02:50:36                NaN              NaN   \n",
       "3       2021-08-21 07:08:13                NaN              NaN   \n",
       "4       2021-08-19 12:04:11                NaN              NaN   \n",
       "...                     ...                ...              ...   \n",
       "823483  2022-07-09 08:56:10                NaN              NaN   \n",
       "823484  2022-07-17 13:33:09                NaN              NaN   \n",
       "823485  2022-07-17 14:57:01                NaN              NaN   \n",
       "823486  2022-07-28 13:47:17                NaN              NaN   \n",
       "823487  2022-07-29 13:10:40                NaN              NaN   \n",
       "\n",
       "       end_station_name end_station_id  start_lat  start_lng  end_lat  \\\n",
       "0                   NaN            NaN      41.77     -87.68    41.77   \n",
       "1                   NaN            NaN      41.77     -87.68    41.77   \n",
       "2                   NaN            NaN      41.95     -87.65    41.97   \n",
       "3                   NaN            NaN      41.97     -87.67    41.95   \n",
       "4                   NaN            NaN      41.79     -87.60    41.77   \n",
       "...                 ...            ...        ...        ...      ...   \n",
       "823483              NaN            NaN      41.74     -87.68    41.75   \n",
       "823484              NaN            NaN      41.87     -87.66    41.87   \n",
       "823485              NaN            NaN      41.95     -87.64    41.95   \n",
       "823486              NaN            NaN      41.88     -87.63    41.87   \n",
       "823487              NaN            NaN      41.90     -87.66    41.90   \n",
       "\n",
       "        end_lng member_casual  \n",
       "0        -87.68        member  \n",
       "1        -87.63        member  \n",
       "2        -87.66        member  \n",
       "3        -87.65        member  \n",
       "4        -87.62        member  \n",
       "...         ...           ...  \n",
       "823483   -87.68        member  \n",
       "823484   -87.68        member  \n",
       "823485   -87.65        member  \n",
       "823486   -87.63        member  \n",
       "823487   -87.67        member  \n",
       "\n",
       "[5901463 rows x 13 columns]"
      ]
     },
     "execution_count": 5,
     "metadata": {},
     "output_type": "execute_result"
    }
   ],
   "source": [
    "df_1_year"
   ]
  },
  {
   "cell_type": "code",
   "execution_count": 6,
   "id": "94a462b1",
   "metadata": {},
   "outputs": [
    {
     "data": {
      "text/plain": [
       "ride_id                    0\n",
       "rideable_type              0\n",
       "started_at                 0\n",
       "ended_at                   0\n",
       "start_station_name    860786\n",
       "start_station_id      860784\n",
       "end_station_name      919896\n",
       "end_station_id        919896\n",
       "start_lat                  0\n",
       "start_lng                  0\n",
       "end_lat                 5590\n",
       "end_lng                 5590\n",
       "member_casual              0\n",
       "dtype: int64"
      ]
     },
     "execution_count": 6,
     "metadata": {},
     "output_type": "execute_result"
    }
   ],
   "source": [
    "df_1_year.isnull().sum()"
   ]
  },
  {
   "cell_type": "code",
   "execution_count": 7,
   "id": "419926ed",
   "metadata": {},
   "outputs": [],
   "source": [
    "df_1_year['Year'] = pd.DatetimeIndex(df_1_year['started_at']).year"
   ]
  },
  {
   "cell_type": "code",
   "execution_count": 8,
   "id": "9c25e712",
   "metadata": {},
   "outputs": [],
   "source": [
    "df_1_year['Month'] = pd.DatetimeIndex(df_1_year['started_at']).month"
   ]
  },
  {
   "cell_type": "code",
   "execution_count": 9,
   "id": "f7b07b7f",
   "metadata": {},
   "outputs": [
    {
     "data": {
      "text/plain": [
       "7     823488\n",
       "8     804352\n",
       "6     769204\n",
       "9     756147\n",
       "5     634858\n",
       "10    631226\n",
       "4     371249\n",
       "11    359978\n",
       "3     284042\n",
       "12    247540\n",
       "2     115609\n",
       "1     103770\n",
       "Name: Month, dtype: int64"
      ]
     },
     "execution_count": 9,
     "metadata": {},
     "output_type": "execute_result"
    }
   ],
   "source": [
    "df_1_year['Month'].value_counts()"
   ]
  },
  {
   "cell_type": "code",
   "execution_count": 10,
   "id": "1cec57c8",
   "metadata": {},
   "outputs": [
    {
     "name": "stdout",
     "output_type": "stream",
     "text": [
      "<class 'pandas.core.frame.DataFrame'>\n",
      "Int64Index: 5901463 entries, 0 to 823487\n",
      "Data columns (total 15 columns):\n",
      " #   Column              Dtype  \n",
      "---  ------              -----  \n",
      " 0   ride_id             object \n",
      " 1   rideable_type       object \n",
      " 2   started_at          object \n",
      " 3   ended_at            object \n",
      " 4   start_station_name  object \n",
      " 5   start_station_id    object \n",
      " 6   end_station_name    object \n",
      " 7   end_station_id      object \n",
      " 8   start_lat           float64\n",
      " 9   start_lng           float64\n",
      " 10  end_lat             float64\n",
      " 11  end_lng             float64\n",
      " 12  member_casual       object \n",
      " 13  Year                int64  \n",
      " 14  Month               int64  \n",
      "dtypes: float64(4), int64(2), object(9)\n",
      "memory usage: 720.4+ MB\n"
     ]
    }
   ],
   "source": [
    "df_1_year.info()"
   ]
  },
  {
   "cell_type": "code",
   "execution_count": 11,
   "id": "2a415b6b",
   "metadata": {},
   "outputs": [],
   "source": [
    "df_1_year['started_at'] = pd.to_datetime(df_1_year['started_at'])\n",
    "df_1_year['ended_at'] = pd.to_datetime(df_1_year['ended_at'])"
   ]
  },
  {
   "cell_type": "code",
   "execution_count": 12,
   "id": "429265ce",
   "metadata": {},
   "outputs": [
    {
     "name": "stdout",
     "output_type": "stream",
     "text": [
      "<class 'pandas.core.frame.DataFrame'>\n",
      "Int64Index: 5901463 entries, 0 to 823487\n",
      "Data columns (total 15 columns):\n",
      " #   Column              Dtype         \n",
      "---  ------              -----         \n",
      " 0   ride_id             object        \n",
      " 1   rideable_type       object        \n",
      " 2   started_at          datetime64[ns]\n",
      " 3   ended_at            datetime64[ns]\n",
      " 4   start_station_name  object        \n",
      " 5   start_station_id    object        \n",
      " 6   end_station_name    object        \n",
      " 7   end_station_id      object        \n",
      " 8   start_lat           float64       \n",
      " 9   start_lng           float64       \n",
      " 10  end_lat             float64       \n",
      " 11  end_lng             float64       \n",
      " 12  member_casual       object        \n",
      " 13  Year                int64         \n",
      " 14  Month               int64         \n",
      "dtypes: datetime64[ns](2), float64(4), int64(2), object(7)\n",
      "memory usage: 720.4+ MB\n"
     ]
    }
   ],
   "source": [
    "df_1_year.info()"
   ]
  },
  {
   "cell_type": "code",
   "execution_count": 13,
   "id": "9037fe8a",
   "metadata": {},
   "outputs": [],
   "source": [
    "df_1_year['ride_length'] =  df_1_year['ended_at'] - df_1_year['started_at'] "
   ]
  },
  {
   "cell_type": "code",
   "execution_count": 14,
   "id": "e8d3d5e9",
   "metadata": {},
   "outputs": [
    {
     "data": {
      "text/plain": [
       "Timedelta('0 days 00:19:53.376440723')"
      ]
     },
     "execution_count": 14,
     "metadata": {},
     "output_type": "execute_result"
    }
   ],
   "source": [
    "df_1_year['ride_length'].mean()"
   ]
  },
  {
   "cell_type": "code",
   "execution_count": 15,
   "id": "17f369a7",
   "metadata": {},
   "outputs": [],
   "source": [
    "import seaborn as sns\n",
    "import matplotlib.pyplot as plt"
   ]
  },
  {
   "cell_type": "code",
   "execution_count": 16,
   "id": "cfd6f7fd",
   "metadata": {},
   "outputs": [],
   "source": [
    "df_1_year['ride_length'] = df_1_year['ride_length'].dt.total_seconds() / 60\n"
   ]
  },
  {
   "cell_type": "code",
   "execution_count": 17,
   "id": "3ee76088",
   "metadata": {},
   "outputs": [
    {
     "data": {
      "text/plain": [
       "0          6.916667\n",
       "1         16.166667\n",
       "2         16.216667\n",
       "3         15.300000\n",
       "4          8.700000\n",
       "            ...    \n",
       "823483    23.916667\n",
       "823484     5.200000\n",
       "823485     5.400000\n",
       "823486     5.450000\n",
       "823487     5.333333\n",
       "Name: ride_length, Length: 5901463, dtype: float64"
      ]
     },
     "execution_count": 17,
     "metadata": {},
     "output_type": "execute_result"
    }
   ],
   "source": [
    "df_1_year['ride_length']"
   ]
  },
  {
   "cell_type": "code",
   "execution_count": 18,
   "id": "984d64b3",
   "metadata": {},
   "outputs": [
    {
     "name": "stdout",
     "output_type": "stream",
     "text": [
      "<class 'pandas.core.frame.DataFrame'>\n",
      "Int64Index: 5901463 entries, 0 to 823487\n",
      "Data columns (total 16 columns):\n",
      " #   Column              Dtype         \n",
      "---  ------              -----         \n",
      " 0   ride_id             object        \n",
      " 1   rideable_type       object        \n",
      " 2   started_at          datetime64[ns]\n",
      " 3   ended_at            datetime64[ns]\n",
      " 4   start_station_name  object        \n",
      " 5   start_station_id    object        \n",
      " 6   end_station_name    object        \n",
      " 7   end_station_id      object        \n",
      " 8   start_lat           float64       \n",
      " 9   start_lng           float64       \n",
      " 10  end_lat             float64       \n",
      " 11  end_lng             float64       \n",
      " 12  member_casual       object        \n",
      " 13  Year                int64         \n",
      " 14  Month               int64         \n",
      " 15  ride_length         float64       \n",
      "dtypes: datetime64[ns](2), float64(5), int64(2), object(7)\n",
      "memory usage: 765.4+ MB\n"
     ]
    }
   ],
   "source": [
    "df_1_year.info()"
   ]
  },
  {
   "cell_type": "code",
   "execution_count": 19,
   "id": "9d04ecd7",
   "metadata": {},
   "outputs": [
    {
     "data": {
      "text/plain": [
       "ride_id                    0\n",
       "rideable_type              0\n",
       "started_at                 0\n",
       "ended_at                   0\n",
       "start_station_name    860786\n",
       "start_station_id      860784\n",
       "end_station_name      919896\n",
       "end_station_id        919896\n",
       "start_lat                  0\n",
       "start_lng                  0\n",
       "end_lat                 5590\n",
       "end_lng                 5590\n",
       "member_casual              0\n",
       "Year                       0\n",
       "Month                      0\n",
       "ride_length                0\n",
       "dtype: int64"
      ]
     },
     "execution_count": 19,
     "metadata": {},
     "output_type": "execute_result"
    }
   ],
   "source": [
    "df_1_year.isnull().sum()"
   ]
  },
  {
   "cell_type": "code",
   "execution_count": null,
   "id": "b12247ff",
   "metadata": {},
   "outputs": [],
   "source": []
  },
  {
   "cell_type": "code",
   "execution_count": 20,
   "id": "487e4377",
   "metadata": {},
   "outputs": [
    {
     "name": "stderr",
     "output_type": "stream",
     "text": [
      "C:\\Users\\koust\\anaconda3\\lib\\site-packages\\seaborn\\distributions.py:2619: FutureWarning: `distplot` is a deprecated function and will be removed in a future version. Please adapt your code to use either `displot` (a figure-level function with similar flexibility) or `histplot` (an axes-level function for histograms).\n",
      "  warnings.warn(msg, FutureWarning)\n"
     ]
    },
    {
     "data": {
      "text/plain": [
       "<AxesSubplot:xlabel='ride_length', ylabel='Density'>"
      ]
     },
     "execution_count": 20,
     "metadata": {},
     "output_type": "execute_result"
    },
    {
     "data": {
      "image/png": "[encoded data removed]",
      "text/plain": [
       "<Figure size 720x720 with 1 Axes>"
      ]
     },
     "metadata": {
      "needs_background": "light"
     },
     "output_type": "display_data"
    }
   ],
   "source": [
    "plt.figure(figsize=(10,10))\n",
    "sns.distplot(df_1_year['ride_length'])"
   ]
  },
  {
   "cell_type": "code",
   "execution_count": 21,
   "id": "d9d27334",
   "metadata": {},
   "outputs": [
    {
     "data": {
      "text/plain": [
       "-137.41666666666666"
      ]
     },
     "execution_count": 21,
     "metadata": {},
     "output_type": "execute_result"
    }
   ],
   "source": [
    "df_1_year['ride_length'].min()"
   ]
  },
  {
   "cell_type": "code",
   "execution_count": 22,
   "id": "a271c07a",
   "metadata": {},
   "outputs": [
    {
     "data": {
      "text/plain": [
       "41629.166666666664"
      ]
     },
     "execution_count": 22,
     "metadata": {},
     "output_type": "execute_result"
    }
   ],
   "source": [
    "df_1_year['ride_length'].max()"
   ]
  },
  {
   "cell_type": "code",
   "execution_count": 24,
   "id": "0023aa7a",
   "metadata": {},
   "outputs": [
    {
     "name": "stderr",
     "output_type": "stream",
     "text": [
      "C:\\Users\\koust\\anaconda3\\lib\\site-packages\\seaborn\\_decorators.py:36: FutureWarning: Pass the following variable as a keyword arg: x. From version 0.12, the only valid positional argument will be `data`, and passing other arguments without an explicit keyword will result in an error or misinterpretation.\n",
      "  warnings.warn(\n"
     ]
    },
    {
     "data": {
      "text/plain": [
       "<AxesSubplot:xlabel='ride_length'>"
      ]
     },
     "execution_count": 24,
     "metadata": {},
     "output_type": "execute_result"
    },
    {
     "data": {
      "image/png": "[encoded data removed]",
      "text/plain": [
       "<Figure size 720x720 with 1 Axes>"
      ]
     },
     "metadata": {
      "needs_background": "light"
     },
     "output_type": "display_data"
    }
   ],
   "source": [
    "plt.figure(figsize=(10,10))\n",
    "sns.boxplot(df_1_year['ride_length'])"
   ]
  },
  {
   "cell_type": "code",
   "execution_count": 25,
   "id": "64fe4a35",
   "metadata": {},
   "outputs": [],
   "source": [
    "Q1 = np.percentile(df_1_year['ride_length'], 25,\n",
    "                   interpolation = 'midpoint')\n",
    " \n",
    "Q3 = np.percentile(df_1_year['ride_length'], 75,\n",
    "                   interpolation = 'midpoint')\n",
    "IQR = Q3 - Q1"
   ]
  },
  {
   "cell_type": "code",
   "execution_count": 26,
   "id": "9392bab7",
   "metadata": {},
   "outputs": [
    {
     "name": "stdout",
     "output_type": "stream",
     "text": [
      "Old Shape:  (5901463, 16)\n"
     ]
    }
   ],
   "source": [
    "print(\"Old Shape: \", df_1_year.shape)"
   ]
  },
  {
   "cell_type": "code",
   "execution_count": 27,
   "id": "507a20c2",
   "metadata": {},
   "outputs": [],
   "source": [
    "upper = np.where(df_1_year['ride_length'] >= (Q3+1.5*IQR))\n",
    "lower = np.where(df_1_year['ride_length'] <= (Q1-1.5*IQR))"
   ]
  },
  {
   "cell_type": "code",
   "execution_count": 45,
   "id": "2eb84003",
   "metadata": {},
   "outputs": [],
   "source": [
    "upper = list(upper[0])"
   ]
  },
  {
   "cell_type": "code",
   "execution_count": 46,
   "id": "cd093e6d",
   "metadata": {},
   "outputs": [
    {
     "data": {
      "text/plain": [
       "list"
      ]
     },
     "execution_count": 46,
     "metadata": {},
     "output_type": "execute_result"
    }
   ],
   "source": [
    "type(upper)"
   ]
  },
  {
   "cell_type": "code",
   "execution_count": 47,
   "id": "5a3d60a1",
   "metadata": {},
   "outputs": [],
   "source": [
    "lower = list(lower[0])"
   ]
  },
  {
   "cell_type": "code",
   "execution_count": 48,
   "id": "012ef21a",
   "metadata": {},
   "outputs": [
    {
     "data": {
      "text/plain": [
       "list"
      ]
     },
     "execution_count": 48,
     "metadata": {},
     "output_type": "execute_result"
    }
   ],
   "source": [
    "type(lower)"
   ]
  },
  {
   "cell_type": "code",
   "execution_count": 50,
   "id": "3d0c5aab",
   "metadata": {},
   "outputs": [],
   "source": [
    "total = upper + lower"
   ]
  },
  {
   "cell_type": "code",
   "execution_count": 52,
   "id": "66cb8615",
   "metadata": {},
   "outputs": [
    {
     "data": {
      "text/plain": [
       "list"
      ]
     },
     "execution_count": 52,
     "metadata": {},
     "output_type": "execute_result"
    }
   ],
   "source": [
    "type(total)"
   ]
  },
  {
   "cell_type": "code",
   "execution_count": 53,
   "id": "2353f5e3",
   "metadata": {},
   "outputs": [],
   "source": [
    "df_1_year.drop(df_1_year.index[total], inplace=True)"
   ]
  },
  {
   "cell_type": "code",
   "execution_count": 54,
   "id": "b42cc578",
   "metadata": {},
   "outputs": [
    {
     "name": "stdout",
     "output_type": "stream",
     "text": [
      "New Shape:  (3236242, 16)\n"
     ]
    }
   ],
   "source": [
    "print(\"New Shape: \", df_1_year.shape)"
   ]
  },
  {
   "cell_type": "code",
   "execution_count": 55,
   "id": "5da921f2",
   "metadata": {},
   "outputs": [
    {
     "name": "stderr",
     "output_type": "stream",
     "text": [
      "C:\\Users\\koust\\anaconda3\\lib\\site-packages\\seaborn\\distributions.py:2619: FutureWarning: `distplot` is a deprecated function and will be removed in a future version. Please adapt your code to use either `displot` (a figure-level function with similar flexibility) or `histplot` (an axes-level function for histograms).\n",
      "  warnings.warn(msg, FutureWarning)\n"
     ]
    },
    {
     "data": {
      "text/plain": [
       "<AxesSubplot:xlabel='ride_length', ylabel='Density'>"
      ]
     },
     "execution_count": 55,
     "metadata": {},
     "output_type": "execute_result"
    },
    {
     "data": {
      "image/png": "[encoded data removed]",
      "text/plain": [
       "<Figure size 720x720 with 1 Axes>"
      ]
     },
     "metadata": {
      "needs_background": "light"
     },
     "output_type": "display_data"
    }
   ],
   "source": [
    "plt.figure(figsize=(10,10))\n",
    "sns.distplot(df_1_year['ride_length'])"
   ]
  },
  {
   "cell_type": "code",
   "execution_count": 56,
   "id": "0f4196be",
   "metadata": {},
   "outputs": [
    {
     "data": {
      "text/plain": [
       "-11.15"
      ]
     },
     "execution_count": 56,
     "metadata": {},
     "output_type": "execute_result"
    }
   ],
   "source": [
    "df_1_year['ride_length'].min()"
   ]
  },
  {
   "cell_type": "code",
   "execution_count": 57,
   "id": "9ec29b91",
   "metadata": {},
   "outputs": [
    {
     "data": {
      "text/plain": [
       "40.28333333333333"
      ]
     },
     "execution_count": 57,
     "metadata": {},
     "output_type": "execute_result"
    }
   ],
   "source": [
    "df_1_year['ride_length'].max()"
   ]
  },
  {
   "cell_type": "code",
   "execution_count": 58,
   "id": "bb545254",
   "metadata": {},
   "outputs": [],
   "source": [
    "df_1_year = df_1_year[df_1_year['ride_length'] > 0]"
   ]
  },
  {
   "cell_type": "code",
   "execution_count": 59,
   "id": "3eac2d45",
   "metadata": {},
   "outputs": [
    {
     "data": {
      "text/plain": [
       "0.016666666666666666"
      ]
     },
     "execution_count": 59,
     "metadata": {},
     "output_type": "execute_result"
    }
   ],
   "source": [
    "df_1_year['ride_length'].min()"
   ]
  },
  {
   "cell_type": "code",
   "execution_count": 60,
   "id": "3cf926cd",
   "metadata": {},
   "outputs": [
    {
     "data": {
      "text/html": [
       "<div>\n",
       "<style scoped>\n",
       "    .dataframe tbody tr th:only-of-type {\n",
       "        vertical-align: middle;\n",
       "    }\n",
       "\n",
       "    .dataframe tbody tr th {\n",
       "        vertical-align: top;\n",
       "    }\n",
       "\n",
       "    .dataframe thead th {\n",
       "        text-align: right;\n",
       "    }\n",
       "</style>\n",
       "<table border=\"1\" class=\"dataframe\">\n",
       "  <thead>\n",
       "    <tr style=\"text-align: right;\">\n",
       "      <th></th>\n",
       "      <th>ride_id</th>\n",
       "      <th>rideable_type</th>\n",
       "      <th>started_at</th>\n",
       "      <th>ended_at</th>\n",
       "      <th>start_station_name</th>\n",
       "      <th>start_station_id</th>\n",
       "      <th>end_station_name</th>\n",
       "      <th>end_station_id</th>\n",
       "      <th>start_lat</th>\n",
       "      <th>start_lng</th>\n",
       "      <th>end_lat</th>\n",
       "      <th>end_lng</th>\n",
       "      <th>member_casual</th>\n",
       "      <th>Year</th>\n",
       "      <th>Month</th>\n",
       "      <th>ride_length</th>\n",
       "    </tr>\n",
       "  </thead>\n",
       "  <tbody>\n",
       "    <tr>\n",
       "      <th>0</th>\n",
       "      <td>99103BB87CC6C1BB</td>\n",
       "      <td>electric_bike</td>\n",
       "      <td>2021-08-10 17:15:49</td>\n",
       "      <td>2021-08-10 17:22:44</td>\n",
       "      <td>NaN</td>\n",
       "      <td>NaN</td>\n",
       "      <td>NaN</td>\n",
       "      <td>NaN</td>\n",
       "      <td>41.77</td>\n",
       "      <td>-87.68</td>\n",
       "      <td>41.77</td>\n",
       "      <td>-87.68</td>\n",
       "      <td>member</td>\n",
       "      <td>2021</td>\n",
       "      <td>8</td>\n",
       "      <td>6.916667</td>\n",
       "    </tr>\n",
       "    <tr>\n",
       "      <th>1</th>\n",
       "      <td>EAFCCCFB0A3FC5A1</td>\n",
       "      <td>electric_bike</td>\n",
       "      <td>2021-08-10 17:23:14</td>\n",
       "      <td>2021-08-10 17:39:24</td>\n",
       "      <td>NaN</td>\n",
       "      <td>NaN</td>\n",
       "      <td>NaN</td>\n",
       "      <td>NaN</td>\n",
       "      <td>41.77</td>\n",
       "      <td>-87.68</td>\n",
       "      <td>41.77</td>\n",
       "      <td>-87.63</td>\n",
       "      <td>member</td>\n",
       "      <td>2021</td>\n",
       "      <td>8</td>\n",
       "      <td>16.166667</td>\n",
       "    </tr>\n",
       "    <tr>\n",
       "      <th>2</th>\n",
       "      <td>9EF4F46C57AD234D</td>\n",
       "      <td>electric_bike</td>\n",
       "      <td>2021-08-21 02:34:23</td>\n",
       "      <td>2021-08-21 02:50:36</td>\n",
       "      <td>NaN</td>\n",
       "      <td>NaN</td>\n",
       "      <td>NaN</td>\n",
       "      <td>NaN</td>\n",
       "      <td>41.95</td>\n",
       "      <td>-87.65</td>\n",
       "      <td>41.97</td>\n",
       "      <td>-87.66</td>\n",
       "      <td>member</td>\n",
       "      <td>2021</td>\n",
       "      <td>8</td>\n",
       "      <td>16.216667</td>\n",
       "    </tr>\n",
       "    <tr>\n",
       "      <th>5</th>\n",
       "      <td>612F12C94A964F3E</td>\n",
       "      <td>electric_bike</td>\n",
       "      <td>2021-08-19 12:41:12</td>\n",
       "      <td>2021-08-19 12:47:47</td>\n",
       "      <td>NaN</td>\n",
       "      <td>NaN</td>\n",
       "      <td>NaN</td>\n",
       "      <td>NaN</td>\n",
       "      <td>41.81</td>\n",
       "      <td>-87.61</td>\n",
       "      <td>41.80</td>\n",
       "      <td>-87.60</td>\n",
       "      <td>member</td>\n",
       "      <td>2021</td>\n",
       "      <td>8</td>\n",
       "      <td>6.583333</td>\n",
       "    </tr>\n",
       "    <tr>\n",
       "      <th>6</th>\n",
       "      <td>C7435946FDFFA9B7</td>\n",
       "      <td>electric_bike</td>\n",
       "      <td>2021-08-19 12:21:50</td>\n",
       "      <td>2021-08-19 12:37:31</td>\n",
       "      <td>NaN</td>\n",
       "      <td>NaN</td>\n",
       "      <td>NaN</td>\n",
       "      <td>NaN</td>\n",
       "      <td>41.77</td>\n",
       "      <td>-87.62</td>\n",
       "      <td>41.81</td>\n",
       "      <td>-87.61</td>\n",
       "      <td>member</td>\n",
       "      <td>2021</td>\n",
       "      <td>8</td>\n",
       "      <td>15.683333</td>\n",
       "    </tr>\n",
       "  </tbody>\n",
       "</table>\n",
       "</div>"
      ],
      "text/plain": [
       "            ride_id  rideable_type          started_at            ended_at  \\\n",
       "0  99103BB87CC6C1BB  electric_bike 2021-08-10 17:15:49 2021-08-10 17:22:44   \n",
       "1  EAFCCCFB0A3FC5A1  electric_bike 2021-08-10 17:23:14 2021-08-10 17:39:24   \n",
       "2  9EF4F46C57AD234D  electric_bike 2021-08-21 02:34:23 2021-08-21 02:50:36   \n",
       "5  612F12C94A964F3E  electric_bike 2021-08-19 12:41:12 2021-08-19 12:47:47   \n",
       "6  C7435946FDFFA9B7  electric_bike 2021-08-19 12:21:50 2021-08-19 12:37:31   \n",
       "\n",
       "  start_station_name start_station_id end_station_name end_station_id  \\\n",
       "0                NaN              NaN              NaN            NaN   \n",
       "1                NaN              NaN              NaN            NaN   \n",
       "2                NaN              NaN              NaN            NaN   \n",
       "5                NaN              NaN              NaN            NaN   \n",
       "6                NaN              NaN              NaN            NaN   \n",
       "\n",
       "   start_lat  start_lng  end_lat  end_lng member_casual  Year  Month  \\\n",
       "0      41.77     -87.68    41.77   -87.68        member  2021      8   \n",
       "1      41.77     -87.68    41.77   -87.63        member  2021      8   \n",
       "2      41.95     -87.65    41.97   -87.66        member  2021      8   \n",
       "5      41.81     -87.61    41.80   -87.60        member  2021      8   \n",
       "6      41.77     -87.62    41.81   -87.61        member  2021      8   \n",
       "\n",
       "   ride_length  \n",
       "0     6.916667  \n",
       "1    16.166667  \n",
       "2    16.216667  \n",
       "5     6.583333  \n",
       "6    15.683333  "
      ]
     },
     "execution_count": 60,
     "metadata": {},
     "output_type": "execute_result"
    }
   ],
   "source": [
    "df_1_year.head()"
   ]
  },
  {
   "cell_type": "code",
   "execution_count": 61,
   "id": "17da7bac",
   "metadata": {},
   "outputs": [],
   "source": []
  },
  {
   "cell_type": "code",
   "execution_count": 64,
   "id": "091a7b72",
   "metadata": {},
   "outputs": [
    {
     "data": {
      "text/plain": [
       "array(['member'], dtype=object)"
      ]
     },
     "execution_count": 64,
     "metadata": {},
     "output_type": "execute_result"
    }
   ],
   "source": [
    "df_1_year_member.member_casual.unique()"
   ]
  },
  {
   "cell_type": "code",
   "execution_count": 65,
   "id": "9b025369",
   "metadata": {},
   "outputs": [
    {
     "data": {
      "text/plain": [
       "array(['casual'], dtype=object)"
      ]
     },
     "execution_count": 65,
     "metadata": {},
     "output_type": "execute_result"
    }
   ],
   "source": [
    "df_1_year_casual.member_casual.unique()"
   ]
  },
  {
   "cell_type": "code",
   "execution_count": 68,
   "id": "6b2df1ce",
   "metadata": {},
   "outputs": [
    {
     "data": {
      "text/plain": [
       "Month\n",
       "1     11.785100\n",
       "2     12.483909\n",
       "3     14.424110\n",
       "4     14.289930\n",
       "5     14.958139\n",
       "6     14.508648\n",
       "7     14.255527\n",
       "8     15.695713\n",
       "9     15.243947\n",
       "10    14.344151\n",
       "11    12.747730\n",
       "12    12.685877\n",
       "Name: ride_length, dtype: float64"
      ]
     },
     "execution_count": 68,
     "metadata": {},
     "output_type": "execute_result"
    }
   ],
   "source": [
    "df_1_year_casual.groupby('Month').ride_length.mean()"
   ]
  },
  {
   "cell_type": "code",
   "execution_count": 69,
   "id": "8565838a",
   "metadata": {},
   "outputs": [
    {
     "name": "stdout",
     "output_type": "stream",
     "text": [
      "<class 'pandas.core.frame.DataFrame'>\n",
      "Int64Index: 3235887 entries, 0 to 823487\n",
      "Data columns (total 16 columns):\n",
      " #   Column              Dtype         \n",
      "---  ------              -----         \n",
      " 0   ride_id             object        \n",
      " 1   rideable_type       object        \n",
      " 2   started_at          datetime64[ns]\n",
      " 3   ended_at            datetime64[ns]\n",
      " 4   start_station_name  object        \n",
      " 5   start_station_id    object        \n",
      " 6   end_station_name    object        \n",
      " 7   end_station_id      object        \n",
      " 8   start_lat           float64       \n",
      " 9   start_lng           float64       \n",
      " 10  end_lat             float64       \n",
      " 11  end_lng             float64       \n",
      " 12  member_casual       object        \n",
      " 13  Year                int64         \n",
      " 14  Month               int64         \n",
      " 15  ride_length         float64       \n",
      "dtypes: datetime64[ns](2), float64(5), int64(2), object(7)\n",
      "memory usage: 419.7+ MB\n"
     ]
    }
   ],
   "source": [
    "df_1_year.info()"
   ]
  },
  {
   "cell_type": "code",
   "execution_count": 74,
   "id": "83297806",
   "metadata": {},
   "outputs": [
    {
     "name": "stderr",
     "output_type": "stream",
     "text": [
      "C:\\Users\\koust\\AppData\\Local\\Temp/ipykernel_16964/594630924.py:1: SettingWithCopyWarning: \n",
      "A value is trying to be set on a copy of a slice from a DataFrame.\n",
      "Try using .loc[row_indexer,col_indexer] = value instead\n",
      "\n",
      "See the caveats in the documentation: https://pandas.pydata.org/pandas-docs/stable/user_guide/indexing.html#returning-a-view-versus-a-copy\n",
      "  df_1_year['Year-Month'] =df_1_year['Year'].astype(str) + '-' + df_1_year['Month'].astype(str)\n"
     ]
    }
   ],
   "source": [
    "df_1_year['Year-Month'] =df_1_year['Year'].astype(str) + '-' + df_1_year['Month'].astype(str)"
   ]
  },
  {
   "cell_type": "code",
   "execution_count": 75,
   "id": "53dd5906",
   "metadata": {},
   "outputs": [
    {
     "data": {
      "text/html": [
       "<div>\n",
       "<style scoped>\n",
       "    .dataframe tbody tr th:only-of-type {\n",
       "        vertical-align: middle;\n",
       "    }\n",
       "\n",
       "    .dataframe tbody tr th {\n",
       "        vertical-align: top;\n",
       "    }\n",
       "\n",
       "    .dataframe thead th {\n",
       "        text-align: right;\n",
       "    }\n",
       "</style>\n",
       "<table border=\"1\" class=\"dataframe\">\n",
       "  <thead>\n",
       "    <tr style=\"text-align: right;\">\n",
       "      <th></th>\n",
       "      <th>ride_id</th>\n",
       "      <th>rideable_type</th>\n",
       "      <th>started_at</th>\n",
       "      <th>ended_at</th>\n",
       "      <th>start_station_name</th>\n",
       "      <th>start_station_id</th>\n",
       "      <th>end_station_name</th>\n",
       "      <th>end_station_id</th>\n",
       "      <th>start_lat</th>\n",
       "      <th>start_lng</th>\n",
       "      <th>end_lat</th>\n",
       "      <th>end_lng</th>\n",
       "      <th>member_casual</th>\n",
       "      <th>Year</th>\n",
       "      <th>Month</th>\n",
       "      <th>ride_length</th>\n",
       "      <th>Year-Month</th>\n",
       "    </tr>\n",
       "  </thead>\n",
       "  <tbody>\n",
       "    <tr>\n",
       "      <th>0</th>\n",
       "      <td>99103BB87CC6C1BB</td>\n",
       "      <td>electric_bike</td>\n",
       "      <td>2021-08-10 17:15:49</td>\n",
       "      <td>2021-08-10 17:22:44</td>\n",
       "      <td>NaN</td>\n",
       "      <td>NaN</td>\n",
       "      <td>NaN</td>\n",
       "      <td>NaN</td>\n",
       "      <td>41.77</td>\n",
       "      <td>-87.68</td>\n",
       "      <td>41.77</td>\n",
       "      <td>-87.68</td>\n",
       "      <td>member</td>\n",
       "      <td>2021</td>\n",
       "      <td>8</td>\n",
       "      <td>6.916667</td>\n",
       "      <td>2021-8</td>\n",
       "    </tr>\n",
       "    <tr>\n",
       "      <th>1</th>\n",
       "      <td>EAFCCCFB0A3FC5A1</td>\n",
       "      <td>electric_bike</td>\n",
       "      <td>2021-08-10 17:23:14</td>\n",
       "      <td>2021-08-10 17:39:24</td>\n",
       "      <td>NaN</td>\n",
       "      <td>NaN</td>\n",
       "      <td>NaN</td>\n",
       "      <td>NaN</td>\n",
       "      <td>41.77</td>\n",
       "      <td>-87.68</td>\n",
       "      <td>41.77</td>\n",
       "      <td>-87.63</td>\n",
       "      <td>member</td>\n",
       "      <td>2021</td>\n",
       "      <td>8</td>\n",
       "      <td>16.166667</td>\n",
       "      <td>2021-8</td>\n",
       "    </tr>\n",
       "    <tr>\n",
       "      <th>2</th>\n",
       "      <td>9EF4F46C57AD234D</td>\n",
       "      <td>electric_bike</td>\n",
       "      <td>2021-08-21 02:34:23</td>\n",
       "      <td>2021-08-21 02:50:36</td>\n",
       "      <td>NaN</td>\n",
       "      <td>NaN</td>\n",
       "      <td>NaN</td>\n",
       "      <td>NaN</td>\n",
       "      <td>41.95</td>\n",
       "      <td>-87.65</td>\n",
       "      <td>41.97</td>\n",
       "      <td>-87.66</td>\n",
       "      <td>member</td>\n",
       "      <td>2021</td>\n",
       "      <td>8</td>\n",
       "      <td>16.216667</td>\n",
       "      <td>2021-8</td>\n",
       "    </tr>\n",
       "    <tr>\n",
       "      <th>5</th>\n",
       "      <td>612F12C94A964F3E</td>\n",
       "      <td>electric_bike</td>\n",
       "      <td>2021-08-19 12:41:12</td>\n",
       "      <td>2021-08-19 12:47:47</td>\n",
       "      <td>NaN</td>\n",
       "      <td>NaN</td>\n",
       "      <td>NaN</td>\n",
       "      <td>NaN</td>\n",
       "      <td>41.81</td>\n",
       "      <td>-87.61</td>\n",
       "      <td>41.80</td>\n",
       "      <td>-87.60</td>\n",
       "      <td>member</td>\n",
       "      <td>2021</td>\n",
       "      <td>8</td>\n",
       "      <td>6.583333</td>\n",
       "      <td>2021-8</td>\n",
       "    </tr>\n",
       "    <tr>\n",
       "      <th>6</th>\n",
       "      <td>C7435946FDFFA9B7</td>\n",
       "      <td>electric_bike</td>\n",
       "      <td>2021-08-19 12:21:50</td>\n",
       "      <td>2021-08-19 12:37:31</td>\n",
       "      <td>NaN</td>\n",
       "      <td>NaN</td>\n",
       "      <td>NaN</td>\n",
       "      <td>NaN</td>\n",
       "      <td>41.77</td>\n",
       "      <td>-87.62</td>\n",
       "      <td>41.81</td>\n",
       "      <td>-87.61</td>\n",
       "      <td>member</td>\n",
       "      <td>2021</td>\n",
       "      <td>8</td>\n",
       "      <td>15.683333</td>\n",
       "      <td>2021-8</td>\n",
       "    </tr>\n",
       "    <tr>\n",
       "      <th>...</th>\n",
       "      <td>...</td>\n",
       "      <td>...</td>\n",
       "      <td>...</td>\n",
       "      <td>...</td>\n",
       "      <td>...</td>\n",
       "      <td>...</td>\n",
       "      <td>...</td>\n",
       "      <td>...</td>\n",
       "      <td>...</td>\n",
       "      <td>...</td>\n",
       "      <td>...</td>\n",
       "      <td>...</td>\n",
       "      <td>...</td>\n",
       "      <td>...</td>\n",
       "      <td>...</td>\n",
       "      <td>...</td>\n",
       "      <td>...</td>\n",
       "    </tr>\n",
       "    <tr>\n",
       "      <th>823483</th>\n",
       "      <td>605787F70B3B9FD3</td>\n",
       "      <td>electric_bike</td>\n",
       "      <td>2022-07-09 08:32:15</td>\n",
       "      <td>2022-07-09 08:56:10</td>\n",
       "      <td>NaN</td>\n",
       "      <td>NaN</td>\n",
       "      <td>NaN</td>\n",
       "      <td>NaN</td>\n",
       "      <td>41.74</td>\n",
       "      <td>-87.68</td>\n",
       "      <td>41.75</td>\n",
       "      <td>-87.68</td>\n",
       "      <td>member</td>\n",
       "      <td>2022</td>\n",
       "      <td>7</td>\n",
       "      <td>23.916667</td>\n",
       "      <td>2022-7</td>\n",
       "    </tr>\n",
       "    <tr>\n",
       "      <th>823484</th>\n",
       "      <td>F0EECBEE637DF028</td>\n",
       "      <td>electric_bike</td>\n",
       "      <td>2022-07-17 13:27:57</td>\n",
       "      <td>2022-07-17 13:33:09</td>\n",
       "      <td>NaN</td>\n",
       "      <td>NaN</td>\n",
       "      <td>NaN</td>\n",
       "      <td>NaN</td>\n",
       "      <td>41.87</td>\n",
       "      <td>-87.66</td>\n",
       "      <td>41.87</td>\n",
       "      <td>-87.68</td>\n",
       "      <td>member</td>\n",
       "      <td>2022</td>\n",
       "      <td>7</td>\n",
       "      <td>5.200000</td>\n",
       "      <td>2022-7</td>\n",
       "    </tr>\n",
       "    <tr>\n",
       "      <th>823485</th>\n",
       "      <td>B8B091DC72DDAB9D</td>\n",
       "      <td>electric_bike</td>\n",
       "      <td>2022-07-17 14:51:37</td>\n",
       "      <td>2022-07-17 14:57:01</td>\n",
       "      <td>NaN</td>\n",
       "      <td>NaN</td>\n",
       "      <td>NaN</td>\n",
       "      <td>NaN</td>\n",
       "      <td>41.95</td>\n",
       "      <td>-87.64</td>\n",
       "      <td>41.95</td>\n",
       "      <td>-87.65</td>\n",
       "      <td>member</td>\n",
       "      <td>2022</td>\n",
       "      <td>7</td>\n",
       "      <td>5.400000</td>\n",
       "      <td>2022-7</td>\n",
       "    </tr>\n",
       "    <tr>\n",
       "      <th>823486</th>\n",
       "      <td>B4D3FFCC1F3AF5EC</td>\n",
       "      <td>electric_bike</td>\n",
       "      <td>2022-07-28 13:41:50</td>\n",
       "      <td>2022-07-28 13:47:17</td>\n",
       "      <td>NaN</td>\n",
       "      <td>NaN</td>\n",
       "      <td>NaN</td>\n",
       "      <td>NaN</td>\n",
       "      <td>41.88</td>\n",
       "      <td>-87.63</td>\n",
       "      <td>41.87</td>\n",
       "      <td>-87.63</td>\n",
       "      <td>member</td>\n",
       "      <td>2022</td>\n",
       "      <td>7</td>\n",
       "      <td>5.450000</td>\n",
       "      <td>2022-7</td>\n",
       "    </tr>\n",
       "    <tr>\n",
       "      <th>823487</th>\n",
       "      <td>AA9217C8DA3BAC0B</td>\n",
       "      <td>electric_bike</td>\n",
       "      <td>2022-07-29 13:05:20</td>\n",
       "      <td>2022-07-29 13:10:40</td>\n",
       "      <td>NaN</td>\n",
       "      <td>NaN</td>\n",
       "      <td>NaN</td>\n",
       "      <td>NaN</td>\n",
       "      <td>41.90</td>\n",
       "      <td>-87.66</td>\n",
       "      <td>41.90</td>\n",
       "      <td>-87.67</td>\n",
       "      <td>member</td>\n",
       "      <td>2022</td>\n",
       "      <td>7</td>\n",
       "      <td>5.333333</td>\n",
       "      <td>2022-7</td>\n",
       "    </tr>\n",
       "  </tbody>\n",
       "</table>\n",
       "<p>3235887 rows × 17 columns</p>\n",
       "</div>"
      ],
      "text/plain": [
       "                 ride_id  rideable_type          started_at  \\\n",
       "0       99103BB87CC6C1BB  electric_bike 2021-08-10 17:15:49   \n",
       "1       EAFCCCFB0A3FC5A1  electric_bike 2021-08-10 17:23:14   \n",
       "2       9EF4F46C57AD234D  electric_bike 2021-08-21 02:34:23   \n",
       "5       612F12C94A964F3E  electric_bike 2021-08-19 12:41:12   \n",
       "6       C7435946FDFFA9B7  electric_bike 2021-08-19 12:21:50   \n",
       "...                  ...            ...                 ...   \n",
       "823483  605787F70B3B9FD3  electric_bike 2022-07-09 08:32:15   \n",
       "823484  F0EECBEE637DF028  electric_bike 2022-07-17 13:27:57   \n",
       "823485  B8B091DC72DDAB9D  electric_bike 2022-07-17 14:51:37   \n",
       "823486  B4D3FFCC1F3AF5EC  electric_bike 2022-07-28 13:41:50   \n",
       "823487  AA9217C8DA3BAC0B  electric_bike 2022-07-29 13:05:20   \n",
       "\n",
       "                  ended_at start_station_name start_station_id  \\\n",
       "0      2021-08-10 17:22:44                NaN              NaN   \n",
       "1      2021-08-10 17:39:24                NaN              NaN   \n",
       "2      2021-08-21 02:50:36                NaN              NaN   \n",
       "5      2021-08-19 12:47:47                NaN              NaN   \n",
       "6      2021-08-19 12:37:31                NaN              NaN   \n",
       "...                    ...                ...              ...   \n",
       "823483 2022-07-09 08:56:10                NaN              NaN   \n",
       "823484 2022-07-17 13:33:09                NaN              NaN   \n",
       "823485 2022-07-17 14:57:01                NaN              NaN   \n",
       "823486 2022-07-28 13:47:17                NaN              NaN   \n",
       "823487 2022-07-29 13:10:40                NaN              NaN   \n",
       "\n",
       "       end_station_name end_station_id  start_lat  start_lng  end_lat  \\\n",
       "0                   NaN            NaN      41.77     -87.68    41.77   \n",
       "1                   NaN            NaN      41.77     -87.68    41.77   \n",
       "2                   NaN            NaN      41.95     -87.65    41.97   \n",
       "5                   NaN            NaN      41.81     -87.61    41.80   \n",
       "6                   NaN            NaN      41.77     -87.62    41.81   \n",
       "...                 ...            ...        ...        ...      ...   \n",
       "823483              NaN            NaN      41.74     -87.68    41.75   \n",
       "823484              NaN            NaN      41.87     -87.66    41.87   \n",
       "823485              NaN            NaN      41.95     -87.64    41.95   \n",
       "823486              NaN            NaN      41.88     -87.63    41.87   \n",
       "823487              NaN            NaN      41.90     -87.66    41.90   \n",
       "\n",
       "        end_lng member_casual  Year  Month  ride_length Year-Month  \n",
       "0        -87.68        member  2021      8     6.916667     2021-8  \n",
       "1        -87.63        member  2021      8    16.166667     2021-8  \n",
       "2        -87.66        member  2021      8    16.216667     2021-8  \n",
       "5        -87.60        member  2021      8     6.583333     2021-8  \n",
       "6        -87.61        member  2021      8    15.683333     2021-8  \n",
       "...         ...           ...   ...    ...          ...        ...  \n",
       "823483   -87.68        member  2022      7    23.916667     2022-7  \n",
       "823484   -87.68        member  2022      7     5.200000     2022-7  \n",
       "823485   -87.65        member  2022      7     5.400000     2022-7  \n",
       "823486   -87.63        member  2022      7     5.450000     2022-7  \n",
       "823487   -87.67        member  2022      7     5.333333     2022-7  \n",
       "\n",
       "[3235887 rows x 17 columns]"
      ]
     },
     "execution_count": 75,
     "metadata": {},
     "output_type": "execute_result"
    }
   ],
   "source": [
    "df_1_year"
   ]
  },
  {
   "cell_type": "code",
   "execution_count": 84,
   "id": "cd0cf7f6",
   "metadata": {},
   "outputs": [
    {
     "name": "stderr",
     "output_type": "stream",
     "text": [
      "C:\\Users\\koust\\AppData\\Local\\Temp/ipykernel_16964/1898790376.py:1: SettingWithCopyWarning: \n",
      "A value is trying to be set on a copy of a slice from a DataFrame.\n",
      "Try using .loc[row_indexer,col_indexer] = value instead\n",
      "\n",
      "See the caveats in the documentation: https://pandas.pydata.org/pandas-docs/stable/user_guide/indexing.html#returning-a-view-versus-a-copy\n",
      "  df_1_year['Year-Month'] = pd.to_datetime(df_1_year['Year-Month'])\n"
     ]
    }
   ],
   "source": [
    "df_1_year['Year-Month'] = pd.to_datetime(df_1_year['Year-Month'])"
   ]
  },
  {
   "cell_type": "code",
   "execution_count": 86,
   "id": "81fd53a4",
   "metadata": {},
   "outputs": [],
   "source": [
    "df_1_year_member = df_1_year[df_1_year['member_casual'] == 'member']\n",
    "df_1_year_casual = df_1_year[df_1_year['member_casual'] == 'casual']"
   ]
  },
  {
   "cell_type": "code",
   "execution_count": 87,
   "id": "437613a8",
   "metadata": {},
   "outputs": [
    {
     "data": {
      "text/plain": [
       "Year-Month\n",
       "2021-08-01    12.166436\n",
       "2021-09-01    11.817038\n",
       "2021-10-01    10.777273\n",
       "2021-11-01     9.744879\n",
       "2021-12-01     9.716311\n",
       "2022-01-01     9.563209\n",
       "2022-02-01     9.626243\n",
       "2022-03-01    10.226050\n",
       "2022-04-01    10.108949\n",
       "2022-05-01    11.463275\n",
       "2022-06-01    11.960491\n",
       "2022-07-01    11.832040\n",
       "Name: ride_length, dtype: float64"
      ]
     },
     "execution_count": 87,
     "metadata": {},
     "output_type": "execute_result"
    }
   ],
   "source": [
    "df_1_year_member.groupby('Year-Month').ride_length.mean()"
   ]
  },
  {
   "cell_type": "code",
   "execution_count": 90,
   "id": "38813465",
   "metadata": {},
   "outputs": [
    {
     "data": {
      "text/plain": [
       "array([15.69571309, 15.24394672, 14.34415137, 12.74772995, 12.68587748,\n",
       "       11.78510013, 12.48390853, 14.4241096 , 14.2899304 , 14.9581386 ,\n",
       "       14.50864787, 14.25552708])"
      ]
     },
     "execution_count": 90,
     "metadata": {},
     "output_type": "execute_result"
    }
   ],
   "source": [
    "df_1_year_casual.groupby('Year-Month').ride_length.mean().values"
   ]
  },
  {
   "cell_type": "code",
   "execution_count": 138,
   "id": "97a08d86",
   "metadata": {},
   "outputs": [
    {
     "data": {
      "image/png": "[encoded data removed]",
      "text/plain": [
       "<Figure size 1280x640 with 1 Axes>"
      ]
     },
     "metadata": {},
     "output_type": "display_data"
    }
   ],
   "source": [
    "plt.figure(figsize=(16,8))\n",
    "plt.style.use('seaborn-notebook')\n",
    "plt.plot(df_1_year_casual.groupby('Year-Month').ride_length.mean().index,\n",
    "          df_1_year_casual.groupby('Year-Month').ride_length.mean().values,label='Casual',\n",
    "           color='b',linewidth=3)\n",
    "plt.plot(df_1_year_member.groupby('Year-Month').ride_length.mean().index,\n",
    "          df_1_year_member.groupby('Year-Month').ride_length.mean().values,label='Member',\n",
    "          color='y',linewidth=3)\n",
    "plt.xlabel('Months',fontdict={'fontsize': 20})\n",
    "plt.ylabel('Length of Rides (minutes)',fontdict={'fontsize': 20})\n",
    "plt.title('Mean Ride Length Over the Year',fontweight=\"bold\",fontdict={'fontsize': 30})\n",
    "plt.grid(True)\n",
    "plt.legend()\n",
    "plt.savefig('ride_length_plot.png')"
   ]
  },
  {
   "cell_type": "code",
   "execution_count": 121,
   "id": "7c558536",
   "metadata": {},
   "outputs": [
    {
     "data": {
      "text/plain": [
       "electric_bike    647286\n",
       "classic_bike     583227\n",
       "docked_bike       89057\n",
       "Name: rideable_type, dtype: int64"
      ]
     },
     "execution_count": 121,
     "metadata": {},
     "output_type": "execute_result"
    }
   ],
   "source": [
    "df_1_year_casual.rideable_type.value_counts()"
   ]
  },
  {
   "cell_type": "code",
   "execution_count": 122,
   "id": "c75496e6",
   "metadata": {},
   "outputs": [
    {
     "data": {
      "text/plain": [
       "classic_bike     1080166\n",
       "electric_bike     836151\n",
       "Name: rideable_type, dtype: int64"
      ]
     },
     "execution_count": 122,
     "metadata": {},
     "output_type": "execute_result"
    }
   ],
   "source": [
    "df_1_year_member.rideable_type.value_counts()"
   ]
  },
  {
   "cell_type": "code",
   "execution_count": 139,
   "id": "19a4c832",
   "metadata": {},
   "outputs": [
    {
     "name": "stderr",
     "output_type": "stream",
     "text": [
      "C:\\Users\\koust\\anaconda3\\lib\\site-packages\\seaborn\\_decorators.py:36: FutureWarning: Pass the following variable as a keyword arg: x. From version 0.12, the only valid positional argument will be `data`, and passing other arguments without an explicit keyword will result in an error or misinterpretation.\n",
      "  warnings.warn(\n"
     ]
    },
    {
     "data": {
      "text/plain": [
       "<AxesSubplot:xlabel='rideable_type', ylabel='count'>"
      ]
     },
     "execution_count": 139,
     "metadata": {},
     "output_type": "execute_result"
    },
    {
     "data": {
      "image/png": "[encoded data removed]",
      "text/plain": [
       "<Figure size 640x440 with 1 Axes>"
      ]
     },
     "metadata": {},
     "output_type": "display_data"
    }
   ],
   "source": [
    "sns.countplot(df_1_year.rideable_type, hue=df_1_year.member_casual)"
   ]
  },
  {
   "cell_type": "code",
   "execution_count": 140,
   "id": "f9db67ad",
   "metadata": {},
   "outputs": [
    {
     "name": "stderr",
     "output_type": "stream",
     "text": [
      "No handles with labels found to put in legend.\n"
     ]
    },
    {
     "data": {
      "text/plain": [
       "Text(0.5, 0, 'Rideable Type')"
      ]
     },
     "execution_count": 140,
     "metadata": {},
     "output_type": "execute_result"
    },
    {
     "data": {
      "image/png": "[encoded data removed]",
      "text/plain": [
       "<Figure size 1280x640 with 2 Axes>"
      ]
     },
     "metadata": {},
     "output_type": "display_data"
    }
   ],
   "source": [
    "fig, axes = plt.subplots(1, 2,figsize=(16,8))\n",
    "sns.barplot(x=df_1_year_casual.rideable_type.value_counts().index\n",
    "            ,y=df_1_year_casual.rideable_type.value_counts().values,ax=axes[0])\n",
    "axes[0].set_title(\"Different Bikes used by Casual Type Customers\",\n",
    "                  fontweight=\"bold\",fontdict={'fontsize': 20})\n",
    "axes[0].set_ylabel('Count')\n",
    "axes[0].set_xlabel('Rideable Type')\n",
    "axes[0].legend()\n",
    "sns.barplot(x=df_1_year_member.rideable_type.value_counts().index\n",
    "            ,y=df_1_year_member.rideable_type.value_counts().values,ax=axes[1])\n",
    "axes[1].set_title(\"Different Bikes used by Member Type Customers\",\n",
    "                  fontweight=\"bold\",fontdict={'fontsize': 20})\n",
    "axes[1].set_ylabel('Count')\n",
    "axes[1].set_xlabel('Rideable Type')"
   ]
  },
  {
   "cell_type": "code",
   "execution_count": 142,
   "id": "f6384095",
   "metadata": {},
   "outputs": [],
   "source": [
    "df_1_year.to_csv(\"df_1_year.csv\")"
   ]
  },
  {
   "cell_type": "code",
   "execution_count": 153,
   "id": "7a296c62",
   "metadata": {},
   "outputs": [],
   "source": [
    "df_lat_lng = df_1_year[['start_lat','start_lng','end_lat','end_lng','Year-Month','member_casual']]"
   ]
  },
  {
   "cell_type": "code",
   "execution_count": 154,
   "id": "de673e1f",
   "metadata": {},
   "outputs": [
    {
     "data": {
      "text/html": [
       "<div>\n",
       "<style scoped>\n",
       "    .dataframe tbody tr th:only-of-type {\n",
       "        vertical-align: middle;\n",
       "    }\n",
       "\n",
       "    .dataframe tbody tr th {\n",
       "        vertical-align: top;\n",
       "    }\n",
       "\n",
       "    .dataframe thead th {\n",
       "        text-align: right;\n",
       "    }\n",
       "</style>\n",
       "<table border=\"1\" class=\"dataframe\">\n",
       "  <thead>\n",
       "    <tr style=\"text-align: right;\">\n",
       "      <th></th>\n",
       "      <th>start_lat</th>\n",
       "      <th>start_lng</th>\n",
       "      <th>end_lat</th>\n",
       "      <th>end_lng</th>\n",
       "      <th>Year-Month</th>\n",
       "      <th>member_casual</th>\n",
       "    </tr>\n",
       "  </thead>\n",
       "  <tbody>\n",
       "    <tr>\n",
       "      <th>0</th>\n",
       "      <td>41.77</td>\n",
       "      <td>-87.68</td>\n",
       "      <td>41.77</td>\n",
       "      <td>-87.68</td>\n",
       "      <td>2021-08-01</td>\n",
       "      <td>member</td>\n",
       "    </tr>\n",
       "    <tr>\n",
       "      <th>1</th>\n",
       "      <td>41.77</td>\n",
       "      <td>-87.68</td>\n",
       "      <td>41.77</td>\n",
       "      <td>-87.63</td>\n",
       "      <td>2021-08-01</td>\n",
       "      <td>member</td>\n",
       "    </tr>\n",
       "    <tr>\n",
       "      <th>2</th>\n",
       "      <td>41.95</td>\n",
       "      <td>-87.65</td>\n",
       "      <td>41.97</td>\n",
       "      <td>-87.66</td>\n",
       "      <td>2021-08-01</td>\n",
       "      <td>member</td>\n",
       "    </tr>\n",
       "    <tr>\n",
       "      <th>5</th>\n",
       "      <td>41.81</td>\n",
       "      <td>-87.61</td>\n",
       "      <td>41.80</td>\n",
       "      <td>-87.60</td>\n",
       "      <td>2021-08-01</td>\n",
       "      <td>member</td>\n",
       "    </tr>\n",
       "    <tr>\n",
       "      <th>6</th>\n",
       "      <td>41.77</td>\n",
       "      <td>-87.62</td>\n",
       "      <td>41.81</td>\n",
       "      <td>-87.61</td>\n",
       "      <td>2021-08-01</td>\n",
       "      <td>member</td>\n",
       "    </tr>\n",
       "  </tbody>\n",
       "</table>\n",
       "</div>"
      ],
      "text/plain": [
       "   start_lat  start_lng  end_lat  end_lng Year-Month member_casual\n",
       "0      41.77     -87.68    41.77   -87.68 2021-08-01        member\n",
       "1      41.77     -87.68    41.77   -87.63 2021-08-01        member\n",
       "2      41.95     -87.65    41.97   -87.66 2021-08-01        member\n",
       "5      41.81     -87.61    41.80   -87.60 2021-08-01        member\n",
       "6      41.77     -87.62    41.81   -87.61 2021-08-01        member"
      ]
     },
     "execution_count": 154,
     "metadata": {},
     "output_type": "execute_result"
    }
   ],
   "source": [
    "df_lat_lng.head()"
   ]
  },
  {
   "cell_type": "code",
   "execution_count": 156,
   "id": "72ba89ac",
   "metadata": {},
   "outputs": [
    {
     "name": "stderr",
     "output_type": "stream",
     "text": [
      "C:\\Users\\koust\\anaconda3\\lib\\site-packages\\pandas\\util\\_decorators.py:311: SettingWithCopyWarning: \n",
      "A value is trying to be set on a copy of a slice from a DataFrame\n",
      "\n",
      "See the caveats in the documentation: https://pandas.pydata.org/pandas-docs/stable/user_guide/indexing.html#returning-a-view-versus-a-copy\n",
      "  return func(*args, **kwargs)\n"
     ]
    }
   ],
   "source": [
    "df_lat_lng.dropna(inplace=True)"
   ]
  },
  {
   "cell_type": "code",
   "execution_count": 157,
   "id": "5005dfab",
   "metadata": {},
   "outputs": [
    {
     "data": {
      "text/plain": [
       "start_lat        0\n",
       "start_lng        0\n",
       "end_lat          0\n",
       "end_lng          0\n",
       "Year-Month       0\n",
       "member_casual    0\n",
       "dtype: int64"
      ]
     },
     "execution_count": 157,
     "metadata": {},
     "output_type": "execute_result"
    }
   ],
   "source": [
    "df_lat_lng.isnull().sum()"
   ]
  },
  {
   "cell_type": "code",
   "execution_count": 158,
   "id": "182ade25",
   "metadata": {},
   "outputs": [
    {
     "data": {
      "text/plain": [
       "(3235669, 6)"
      ]
     },
     "execution_count": 158,
     "metadata": {},
     "output_type": "execute_result"
    }
   ],
   "source": [
    "df_lat_lng.shape"
   ]
  },
  {
   "cell_type": "code",
   "execution_count": 159,
   "id": "2c9d16f2",
   "metadata": {},
   "outputs": [],
   "source": [
    "df_lat_lng.to_csv(\"df_lat_lng.csv\")"
   ]
  },
  {
   "cell_type": "code",
   "execution_count": null,
   "id": "ef49cef5",
   "metadata": {},
   "outputs": [],
   "source": []
  }
 ],
 "metadata": {
  "kernelspec": {
   "display_name": "Python 3 (ipykernel)",
   "language": "python",
   "name": "python3"
  },
  "language_info": {
   "codemirror_mode": {
    "name": "ipython",
    "version": 3
   },
   "file_extension": ".py",
   "mimetype": "text/x-python",
   "name": "python",
   "nbconvert_exporter": "python",
   "pygments_lexer": "ipython3",
   "version": "3.9.7"
  }
 },
 "nbformat": 4,
 "nbformat_minor": 5
}
